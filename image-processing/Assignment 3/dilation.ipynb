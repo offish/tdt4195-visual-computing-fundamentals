{
 "cells": [
  {
   "cell_type": "code",
   "execution_count": null,
   "metadata": {},
   "outputs": [],
   "source": [
    "from scipy.ndimage import binary_dilation\n",
    "\n",
    "A = [] #PASTE IN THE MATRIX FROM INGINIOUS\n",
    "\n",
    "\n",
    "B = [[1],[1],[1]]\n",
    "\n",
    "dilated_a = []\n",
    "\n",
    "\n",
    "# Print the result\n",
    "print(dilated_a)"
   ]
  }
 ],
 "metadata": {
  "kernelspec": {
   "display_name": "tdt4195",
   "language": "python",
   "name": "python3"
  },
  "language_info": {
   "codemirror_mode": {
    "name": "ipython",
    "version": 3
   },
   "file_extension": ".py",
   "mimetype": "text/x-python",
   "name": "python",
   "nbconvert_exporter": "python",
   "pygments_lexer": "ipython3",
   "version": "3.10.15"
  }
 },
 "nbformat": 4,
 "nbformat_minor": 2
}
