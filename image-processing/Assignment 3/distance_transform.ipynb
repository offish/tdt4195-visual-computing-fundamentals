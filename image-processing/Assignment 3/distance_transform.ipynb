{
 "cells": [
  {
   "cell_type": "code",
   "execution_count": 1,
   "metadata": {},
   "outputs": [],
   "source": [
    "import utils\n",
    "import skimage\n",
    "import skimage.morphology\n",
    "import numpy as np\n",
    "import pathlib\n"
   ]
  },
  {
   "cell_type": "code",
   "execution_count": 4,
   "metadata": {},
   "outputs": [],
   "source": [
    "def distance_transform(im: np.ndarray) -> np.ndarray:\n",
    "    \"\"\"\n",
    "    A function that computes the distance to the closest boundary pixel.\n",
    "\n",
    "    args:\n",
    "        im: np.ndarray of shape (H, W) with boolean values (dtype=np.bool)\n",
    "    return:\n",
    "        (np.ndarray) of shape (H, W). dtype=np.int32\n",
    "    \"\"\"\n",
    "    assert im.dtype == bool\n",
    "\n",
    "    structuring_element = np.array(\n",
    "        [\n",
    "            [1, 1, 1],\n",
    "            [1, 1, 1],\n",
    "            [1, 1, 1],\n",
    "        ],\n",
    "        dtype=bool,\n",
    "    )\n",
    "    result = np.zeros_like(im, int)\n",
    "\n",
    "    still_eroded_pixel = True\n",
    "\n",
    "    while still_eroded_pixel:\n",
    "        still_eroded_pixel = False\n",
    "\n",
    "        for x in range(im.shape[0]):\n",
    "            for y in range(im.shape[1]):\n",
    "                if not im[x, y]:\n",
    "                    continue\n",
    "\n",
    "                result[x, y] += 1\n",
    "                still_eroded_pixel = True\n",
    "\n",
    "        im = skimage.morphology.binary_erosion(im, structuring_element)\n",
    "\n",
    "    return result.astype(np.int32)\n"
   ]
  },
  {
   "cell_type": "code",
   "execution_count": 5,
   "metadata": {},
   "outputs": [
    {
     "name": "stdout",
     "output_type": "stream",
     "text": [
      "Reading image: image_processed\\noisy-filtered.png\n",
      "Saving image to: image_processed\\noisy-distance.png\n"
     ]
    }
   ],
   "source": [
    "if __name__ == \"__main__\":\n",
    "    im = utils.read_image(\"noisy-filtered.png\", image_folder=pathlib.Path(\"image_processed\")) # <-- This image is created in noise_filtering\n",
    "    binary_image = (im != 0)\n",
    "    distance = distance_transform(binary_image)\n",
    "\n",
    "    assert im.shape == distance.shape, \"Expected image shape ({}) to be same as resulting image shape ({})\".format(\n",
    "            im.shape, distance.shape)\n",
    "    assert distance.dtype == np.int32, \"Expected resulting image dtype to be np.int32. Was: {}\".format(\n",
    "            distance.dtype)\n",
    "\n",
    "    distance = utils.to_uint8(distance)\n",
    "    utils.save_im(\"noisy-distance.png\", distance)\n"
   ]
  },
  {
   "cell_type": "code",
   "execution_count": null,
   "metadata": {},
   "outputs": [],
   "source": []
  }
 ],
 "metadata": {
  "kernelspec": {
   "display_name": "Python 3 (ipykernel)",
   "language": "python",
   "name": "python3"
  },
  "language_info": {
   "codemirror_mode": {
    "name": "ipython",
    "version": 3
   },
   "file_extension": ".py",
   "mimetype": "text/x-python",
   "name": "python",
   "nbconvert_exporter": "python",
   "pygments_lexer": "ipython3",
   "version": "3.12.5"
  }
 },
 "nbformat": 4,
 "nbformat_minor": 4
}
