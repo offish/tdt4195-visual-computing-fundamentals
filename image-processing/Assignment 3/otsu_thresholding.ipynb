{
 "cells": [
  {
   "cell_type": "code",
   "execution_count": 1,
   "metadata": {},
   "outputs": [],
   "source": [
    "import numpy as np\n",
    "import skimage\n",
    "import utils\n",
    "import pathlib"
   ]
  },
  {
   "cell_type": "code",
   "execution_count": 6,
   "metadata": {},
   "outputs": [],
   "source": [
    "def otsu_thresholding(im: np.ndarray) -> int:\n",
    "    \"\"\"\n",
    "    Otsu's thresholding algorithm that segments an image into 1 or 0 (True or False)\n",
    "    The function takes in a grayscale image and outputs a threshold value\n",
    "\n",
    "    args:\n",
    "        im: np.ndarray of shape (H, W) in the range [0, 255] (dtype=np.uint8)\n",
    "    return:\n",
    "        (int) the computed thresholding value\n",
    "    \"\"\"\n",
    "    assert im.dtype == np.uint8\n",
    "\n",
    "    threshold = 0\n",
    "    biggest_sigma = 0\n",
    "\n",
    "    # grayscale image histogram\n",
    "    for k in range(0, 255):\n",
    "        w0 = np.sum(im < k) / im.size\n",
    "        w1 = np.sum(im >= k) / im.size\n",
    "\n",
    "        # no values which are less than k or greater than k\n",
    "        if w0 == 0 or w1 == 0:\n",
    "            continue\n",
    "\n",
    "        m0 = np.sum(im[im < k]) / np.sum(im < k)\n",
    "        m1 = np.sum(im[im >= k]) / np.sum(im >= k)\n",
    "\n",
    "        sigma = w0 * w1 * (m0 - m1) ** 2\n",
    "\n",
    "        if sigma > biggest_sigma:\n",
    "            biggest_sigma = sigma\n",
    "            threshold = k\n",
    "\n",
    "    return threshold\n"
   ]
  },
  {
   "cell_type": "code",
   "execution_count": 7,
   "metadata": {},
   "outputs": [
    {
     "name": "stdout",
     "output_type": "stream",
     "text": [
      "Reading image: images\\thumbprint.png\n",
      "Found optimal threshold: 154\n",
      "Saving image to: image_processed\\thumbprint-segmented.png\n",
      "Reading image: images\\rice-shaded.png\n",
      "Found optimal threshold: 135\n",
      "Saving image to: image_processed\\rice-shaded-segmented.png\n"
     ]
    }
   ],
   "source": [
    "if __name__ == \"__main__\":\n",
    "    # DO NOT CHANGE\n",
    "    impaths_to_segment = [\n",
    "        pathlib.Path(\"thumbprint.png\"),\n",
    "        pathlib.Path(\"rice-shaded.png\")\n",
    "    ]\n",
    "    for impath in impaths_to_segment:\n",
    "        im = utils.read_image(impath)\n",
    "        threshold = otsu_thresholding(im)\n",
    "        print(\"Found optimal threshold:\", threshold)\n",
    "\n",
    "        # Segment the image by threshold\n",
    "        segmented_image = (im >= threshold)\n",
    "        assert im.shape == segmented_image.shape, \"Expected image shape ({}) to be same as thresholded image shape ({})\".format(\n",
    "                im.shape, segmented_image.shape)\n",
    "        assert segmented_image.dtype == bool, \"Expected thresholded image dtype to be bool. Was: {}\".format(\n",
    "                segmented_image.dtype)\n",
    "\n",
    "        segmented_image = utils.to_uint8(segmented_image)\n",
    "\n",
    "        save_path = \"{}-segmented.png\".format(impath.stem)\n",
    "        utils.save_im(save_path, segmented_image)\n",
    "\n",
    "        \n"
   ]
  },
  {
   "cell_type": "code",
   "execution_count": null,
   "metadata": {},
   "outputs": [],
   "source": []
  }
 ],
 "metadata": {
  "kernelspec": {
   "display_name": "Python 3 (ipykernel)",
   "language": "python",
   "name": "python3"
  },
  "language_info": {
   "codemirror_mode": {
    "name": "ipython",
    "version": 3
   },
   "file_extension": ".py",
   "mimetype": "text/x-python",
   "name": "python",
   "nbconvert_exporter": "python",
   "pygments_lexer": "ipython3",
   "version": "3.12.5"
  }
 },
 "nbformat": 4,
 "nbformat_minor": 4
}
