{
 "cells": [
  {
   "cell_type": "code",
   "execution_count": 1,
   "metadata": {},
   "outputs": [],
   "source": [
    "import numpy as np\n",
    "import skimage\n",
    "import utils\n",
    "import pathlib"
   ]
  },
  {
   "cell_type": "code",
   "execution_count": 2,
   "metadata": {},
   "outputs": [],
   "source": [
    "def otsu_thresholding(im: np.ndarray) -> int:\n",
    "    \"\"\"\n",
    "    Otsu's thresholding algorithm that segments an image into 1 or 0 (True or False)\n",
    "    The function takes in a grayscale image and outputs a threshold value\n",
    "\n",
    "    args:\n",
    "        im: np.ndarray of shape (H, W) in the range [0, 255] (dtype=np.uint8)\n",
    "    return:\n",
    "        (int) the computed thresholding value\n",
    "    \"\"\"\n",
    "    assert im.dtype == np.uint8\n",
    "\n",
    "    flat_image = im.ravel()\n",
    "    histogram, _ = np.histogram(flat_image, bins=256, range=(0, 256))\n",
    "\n",
    "    histogram = histogram / im.size\n",
    "    variance = 0\n",
    "    threshold = 0\n",
    "\n",
    "    for k in range(256):\n",
    "        w0 = np.sum(histogram[: (k + 1)])\n",
    "        w1 = np.sum(histogram[(k + 1) :])\n",
    "\n",
    "        if w0 > 0:\n",
    "            mu0 = np.sum(np.arange(0, k + 1) * histogram[0 : (k + 1)]) / w0\n",
    "        else:\n",
    "            mu0 = 0\n",
    "\n",
    "        if w0 > 0:\n",
    "            mu1 = np.sum(np.arange(k + 1, 256) * histogram[(k + 1) : 256]) / w1\n",
    "        else:\n",
    "            mu1 = 0\n",
    "\n",
    "        sigma = w0 * w1 * (mu0 - mu1) ** 2\n",
    "\n",
    "        if sigma > variance:\n",
    "            threshold = k\n",
    "            variance = sigma\n",
    "\n",
    "    return threshold\n"
   ]
  },
  {
   "cell_type": "code",
   "execution_count": null,
   "metadata": {},
   "outputs": [],
   "source": [
    "if __name__ == \"__main__\":\n",
    "    # DO NOT CHANGE\n",
    "    impaths_to_segment = [\n",
    "        pathlib.Path(\"thumbprint.png\"),\n",
    "        pathlib.Path(\"rice-shaded.png\")\n",
    "    ]\n",
    "    for impath in impaths_to_segment:\n",
    "        im = utils.read_image(impath)\n",
    "        threshold = otsu_thresholding(im)\n",
    "        print(\"Found optimal threshold:\", threshold)\n",
    "\n",
    "        # Segment the image by threshold\n",
    "        segmented_image = (im >= threshold)\n",
    "        assert im.shape == segmented_image.shape, \"Expected image shape ({}) to be same as thresholded image shape ({})\".format(\n",
    "                im.shape, segmented_image.shape)\n",
    "        assert segmented_image.dtype == bool, \"Expected thresholded image dtype to be bool. Was: {}\".format(\n",
    "                segmented_image.dtype)\n",
    "\n",
    "        segmented_image = utils.to_uint8(segmented_image)\n",
    "\n",
    "        save_path = \"{}-segmented.png\".format(impath.stem)\n",
    "        utils.save_im(save_path, segmented_image)\n",
    "\n",
    "        \n"
   ]
  },
  {
   "cell_type": "code",
   "execution_count": null,
   "metadata": {},
   "outputs": [],
   "source": []
  }
 ],
 "metadata": {
  "kernelspec": {
   "display_name": "Python 3 (ipykernel)",
   "language": "python",
   "name": "python3"
  },
  "language_info": {
   "codemirror_mode": {
    "name": "ipython",
    "version": 3
   },
   "file_extension": ".py",
   "mimetype": "text/x-python",
   "name": "python",
   "nbconvert_exporter": "python",
   "pygments_lexer": "ipython3",
   "version": "3.12.5"
  }
 },
 "nbformat": 4,
 "nbformat_minor": 4
}
