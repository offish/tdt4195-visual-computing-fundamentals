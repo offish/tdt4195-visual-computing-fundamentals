{
 "cells": [
  {
   "cell_type": "code",
   "execution_count": 1,
   "metadata": {},
   "outputs": [],
   "source": [
    "import utils\n",
    "import skimage\n",
    "import skimage.morphology\n",
    "import numpy as np"
   ]
  },
  {
   "cell_type": "code",
   "execution_count": 4,
   "metadata": {},
   "outputs": [],
   "source": [
    "def extract_boundary(im: np.ndarray) -> np.ndarray:\n",
    "    \"\"\"\n",
    "    A function that extracts the inner boundary from a boolean image.\n",
    "\n",
    "    args:\n",
    "        im: np.ndarray of shape (H, W) with boolean values (dtype=np.bool)\n",
    "    return:\n",
    "        (np.ndarray) of shape (H, W). dtype=np.bool\n",
    "    \"\"\"\n",
    "    structuring_element = np.array(\n",
    "        [\n",
    "            [1, 1, 1],\n",
    "            [1, 1, 1],\n",
    "            [1, 1, 1],\n",
    "        ],\n",
    "        dtype=bool,\n",
    "    )\n",
    "    im_eroded = skimage.morphology.binary_erosion(im, structuring_element)\n",
    "    boundary = im ^ im_eroded\n",
    "    return boundary\n"
   ]
  },
  {
   "cell_type": "code",
   "execution_count": 5,
   "metadata": {},
   "outputs": [
    {
     "name": "stdout",
     "output_type": "stream",
     "text": [
      "Reading image: images\\blood-vessels.png\n",
      "Saving image to: image_processed\\blood-vessels-boundary.png\n"
     ]
    }
   ],
   "source": [
    "if __name__ == \"__main__\":\n",
    "    im = utils.read_image(\"blood-vessels.png\")\n",
    "    binary_image = (im != 0)\n",
    "    boundary = extract_boundary(binary_image)\n",
    "\n",
    "    assert im.shape == boundary.shape, \"Expected image shape ({}) to be same as resulting image shape ({})\".format(\n",
    "            im.shape, boundary.shape)\n",
    "    assert boundary.dtype == bool, \"Expected resulting image dtype to be bool. Was: {}\".format(\n",
    "            boundary.dtype)\n",
    "\n",
    "    boundary = utils.to_uint8(boundary)\n",
    "    utils.save_im(\"blood-vessels-boundary.png\", boundary)\n"
   ]
  },
  {
   "cell_type": "code",
   "execution_count": null,
   "metadata": {},
   "outputs": [],
   "source": []
  }
 ],
 "metadata": {
  "kernelspec": {
   "display_name": "Python 3 (ipykernel)",
   "language": "python",
   "name": "python3"
  },
  "language_info": {
   "codemirror_mode": {
    "name": "ipython",
    "version": 3
   },
   "file_extension": ".py",
   "mimetype": "text/x-python",
   "name": "python",
   "nbconvert_exporter": "python",
   "pygments_lexer": "ipython3",
   "version": "3.12.5"
  }
 },
 "nbformat": 4,
 "nbformat_minor": 4
}
