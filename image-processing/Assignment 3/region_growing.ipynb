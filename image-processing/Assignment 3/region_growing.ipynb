{
 "cells": [
  {
   "cell_type": "code",
   "execution_count": 1,
   "metadata": {},
   "outputs": [],
   "source": [
    "import utils\n",
    "import numpy as np"
   ]
  },
  {
   "cell_type": "code",
   "execution_count": 34,
   "metadata": {},
   "outputs": [],
   "source": [
    "def region_growing(im: np.ndarray, seed_points: list, T: int) -> np.ndarray:\n",
    "    \"\"\"\n",
    "    A region growing algorithm that segments an image into 1 or 0 (True or False).\n",
    "    Finds candidate pixels with a Moore-neighborhood (8-connectedness).\n",
    "    Uses pixel intensity thresholding with the threshold T as the homogeneity criteria.\n",
    "    The function takes in a grayscale image and outputs a boolean image.\n",
    "\n",
    "    args:\n",
    "        im: np.ndarray of shape (H, W) in the range [0, 255] (dtype=np.uint8)\n",
    "        seed_points: list of lists containing seed points (row, col). Ex:\n",
    "            [[row1, col1], [row2, col2], ...]\n",
    "        T: integer value defining the threshold to be used for the homogeneity criteria.\n",
    "\n",
    "    return:\n",
    "        np.ndarray of shape (H, W). dtype=bool\n",
    "    \"\"\"\n",
    "    # Initialize the segmented (output) and visited arrays\n",
    "    segmented = np.zeros(im.shape, dtype=bool)\n",
    "    visited = np.zeros(im.shape, dtype=bool)\n",
    "    im = im.astype(float)\n",
    "\n",
    "    # 8 connected neighbors\n",
    "    neighbors = [\n",
    "        (0, 0),\n",
    "        (1, 0),\n",
    "        (0, 1),\n",
    "        (-1, 0),\n",
    "        (0, -1),\n",
    "        (1, 1),\n",
    "        (-1, -1),\n",
    "        (-1, 1),\n",
    "        (1, -1),\n",
    "    ]\n",
    "\n",
    "    # check for each seed point\n",
    "    for x, y in seed_points:\n",
    "        stack = [(x, y)]\n",
    "\n",
    "        while stack:\n",
    "            cx, cy = stack.pop()\n",
    "\n",
    "            # check neighbors\n",
    "            for dx, dy in neighbors:\n",
    "                nx, ny = cx + dx, cy + dy\n",
    "\n",
    "                # check if within bounds\n",
    "                if nx < 0 or nx >= im.shape[0] or ny < 0 or ny >= im.shape[1]:\n",
    "                    continue\n",
    "\n",
    "                # no need to check twice\n",
    "                if visited[nx, ny]:\n",
    "                    continue\n",
    "\n",
    "                visited[nx, ny] = True\n",
    "\n",
    "                # does not meet homogeneity criteria\n",
    "                if abs(im[nx, ny] - im[x, y]) > T:\n",
    "                    continue\n",
    "\n",
    "                # meets homogeneity criteria\n",
    "                segmented[nx, ny] = True\n",
    "                stack.append((nx, ny))  # grow region\n",
    "\n",
    "    return segmented\n"
   ]
  },
  {
   "cell_type": "code",
   "execution_count": 35,
   "metadata": {},
   "outputs": [
    {
     "name": "stdout",
     "output_type": "stream",
     "text": [
      "Reading image: images\\defective-weld.png\n",
      "Saving image to: image_processed\\defective-weld-segmented.png\n"
     ]
    }
   ],
   "source": [
    "if __name__ == \"__main__\":\n",
    "    # DO NOT CHANGE\n",
    "    im = utils.read_image(\"defective-weld.png\")\n",
    "\n",
    "    seed_points = [ # (row, column)\n",
    "        [254, 138], # Seed point 1\n",
    "        [253, 296], # Seed point 2\n",
    "        [233, 436], # Seed point 3\n",
    "        [232, 417], # Seed point 4\n",
    "    ]\n",
    "    intensity_threshold = 50\n",
    "    segmented_image = region_growing(im, seed_points, intensity_threshold)\n",
    "\n",
    "    assert im.shape == segmented_image.shape, \"Expected image shape ({}) to be same as thresholded image shape ({})\".format(\n",
    "        im.shape, segmented_image.shape)\n",
    "    assert segmented_image.dtype == bool, \"Expected thresholded image dtype to be bool. Was: {}\".format(\n",
    "            segmented_image.dtype)\n",
    "\n",
    "    segmented_image = utils.to_uint8(segmented_image)\n",
    "    utils.save_im(\"defective-weld-segmented.png\", segmented_image)\n"
   ]
  },
  {
   "cell_type": "code",
   "execution_count": null,
   "metadata": {},
   "outputs": [],
   "source": []
  }
 ],
 "metadata": {
  "kernelspec": {
   "display_name": "Python 3 (ipykernel)",
   "language": "python",
   "name": "python3"
  },
  "language_info": {
   "codemirror_mode": {
    "name": "ipython",
    "version": 3
   },
   "file_extension": ".py",
   "mimetype": "text/x-python",
   "name": "python",
   "nbconvert_exporter": "python",
   "pygments_lexer": "ipython3",
   "version": "3.12.5"
  }
 },
 "nbformat": 4,
 "nbformat_minor": 4
}
